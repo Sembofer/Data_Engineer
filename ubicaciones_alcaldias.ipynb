{
 "cells": [
  {
   "cell_type": "markdown",
   "metadata": {},
   "source": [
    "# Análisis de los Datos Abiertos de la Ciudad de México"
   ]
  },
  {
   "cell_type": "code",
   "execution_count": 38,
   "metadata": {},
   "outputs": [],
   "source": [
    "import requests\n",
    "import pandas as pd\n",
    "import numpy as np"
   ]
  },
  {
   "cell_type": "markdown",
   "metadata": {},
   "source": [
    "### Funciones útiles"
   ]
  },
  {
   "cell_type": "code",
   "execution_count": 39,
   "metadata": {},
   "outputs": [],
   "source": [
    "def api_requests_response(url):\n",
    "    \"\"\"Realiza el request y devuelve un DataFrame\n",
    "\n",
    "    Args:\n",
    "        url (string): url de la api para extraer información\n",
    "\n",
    "    Returns:\n",
    "        DataFrame: devuelve un dataframe con la información\n",
    "    \"\"\"\n",
    "    response = requests.get(str(url))\n",
    "    data = response.json()\n",
    "    return pd.DataFrame(data['result']['records'])\n",
    "\n",
    "def distancias(x, y, alcaldia, indice):\n",
    "    if indice <16:\n",
    "        dist.append((x-alcaldia.position_latitude[indice])**2 + (y - alcaldia.position_longitude[indice])**2)\n",
    "        distancias(x, y, alcaldia, indice +1)\n",
    "\n",
    "def unidades_dispon():\n",
    "    \"\"\"Funcion de devuelve una lista del id (\"id\") de las unidades disponibles,\n",
    "    de acuerdo al campo \"vehicle_currenten_status\": 1 = Activa, 2 = Inactiva\n",
    "\n",
    "    Returns:\n",
    "        list: lista de unidades activas\n",
    "    \"\"\"\n",
    "    unid_disp = ubicacion_metrobus[ubicacion_metrobus['vehicle_current_status']==1]\n",
    "    return list(unid_disp['id'])\n",
    "\n",
    "def ubic_por_ID(id):\n",
    "    \"\"\"Función que devuelve el nombre de la alcaldia según el id (\"id\") ingresado\n",
    "\n",
    "    Args:\n",
    "        id (int): Argumento que corresponde al campo \"id\"\n",
    "\n",
    "    Returns:\n",
    "        str: nombre de la alcaldía\n",
    "    \"\"\"\n",
    "    return ubicacion_metrobus[ubicacion_metrobus['id']==id]['nomgeo']\n",
    "\n",
    "def alcaldias_dispon():\n",
    "    \"\"\"Función que devuelve una lista de las alcaldías\n",
    "    en las que se encuentra al menos una ubicación del metrobus\n",
    "\n",
    "    Returns:\n",
    "        list: lista de los nombres de las alcaldías (campo \"nomgeo\")\n",
    "    \"\"\"\n",
    "    return list(ubicacion_metrobus['nomgeo'].unique())\n",
    "\n",
    "def unidades_por_alcaldia(alcaldia_id):\n",
    "    \"\"\"_summary_\n",
    "\n",
    "    Args:\n",
    "        alcaldia_id (_type_): _description_\n",
    "\n",
    "    Returns:\n",
    "        _type_: _description_\n",
    "    \"\"\"\n",
    "    ubicacion_metrobus_por_alcaldia = ubicacion_metrobus[ubicacion_metrobus['alcaldia_id']==alcaldia_id]\n",
    "    return ubicacion_metrobus_por_alcaldia['id'].count()\n"
   ]
  },
  {
   "cell_type": "markdown",
   "metadata": {},
   "source": [
    "Las siguientes URL's contienen la información de las alcaldías y las ubicaciones del metrobus"
   ]
  },
  {
   "cell_type": "code",
   "execution_count": 40,
   "metadata": {},
   "outputs": [],
   "source": [
    "# url de las api's\n",
    "api_alcaldia_url = 'https://datos.cdmx.gob.mx/api/3/action/datastore_search?resource_id=e4a9b05f-c480-45fb-a62c-6d4e39c5180e&limit=16'\n",
    "api_ubicacion_unidades_metrobus = 'https://datos.cdmx.gob.mx/api/3/action/datastore_search?resource_id=ad360a0e-b42f-482c-af12-1fd72140032e&limit=207'\n"
   ]
  },
  {
   "cell_type": "code",
   "execution_count": 41,
   "metadata": {},
   "outputs": [],
   "source": [
    "#Llamada a la función para obtener la información en dataframes\n",
    "alcaldias = api_requests_response(api_alcaldia_url)\n",
    "ubicacion_metrobus = api_requests_response(api_ubicacion_unidades_metrobus)\n"
   ]
  },
  {
   "cell_type": "code",
   "execution_count": 42,
   "metadata": {},
   "outputs": [],
   "source": [
    "#Se ordenan de forma ascendente los DataFrames \"alcaldias\" y \"ubicacion_metrobus\", mdeiante los campos \"id\" en ambos\n",
    "alcaldias = alcaldias.sort_values('id')\n",
    "ubicacion_metrobus = ubicacion_metrobus.sort_values('id')"
   ]
  },
  {
   "cell_type": "markdown",
   "metadata": {},
   "source": [
    "Sin embargo, no hay relación explícita entre ambos dataframes, se opta por realizar el siguiente procedimiento"
   ]
  },
  {
   "cell_type": "code",
   "execution_count": 43,
   "metadata": {},
   "outputs": [],
   "source": [
    "\n",
    "#Lista de las columnas a las que se les cambiará el tipo de dato\n",
    "positions=['position_latitude', 'position_longitude']\n",
    "\n",
    "#Cambio de tipo de dato de str a float\n",
    "alcaldias[positions] = alcaldias.geo_point_2d.str.split(',', expand=True)\n",
    "alcaldias[positions] = alcaldias[positions].astype('float64')"
   ]
  },
  {
   "cell_type": "code",
   "execution_count": 44,
   "metadata": {},
   "outputs": [],
   "source": [
    "#Loop para rellenar una lista que contiene el nombre de la alcaldia\n",
    "#considerando la distancia mínima de la ubicacion de metrobus con la alcaldia\n",
    "nomgeo_list = []\n",
    "alcaldia_id_list =[]\n",
    "alcaldia_cve_mun = []\n",
    "for lab, row in ubicacion_metrobus.iterrows():\n",
    "    dist = []\n",
    "    distancias(row.position_latitude, row.position_longitude,alcaldias,0)\n",
    "    nomgeo_list.append(alcaldias.iloc[dist.index(min(dist)), 2])\n",
    "    alcaldia_id_list.append(alcaldias.iloc[dist.index(min(dist)), 1])\n",
    "    alcaldia_cve_mun.append(alcaldias.iloc[dist.index(min(dist)), 3])"
   ]
  },
  {
   "cell_type": "code",
   "execution_count": 45,
   "metadata": {},
   "outputs": [],
   "source": [
    "#Se agregan nuevas columnas \"nomgeo\", \"alcaldia_id\" y \"cve_num\" de acuerdo a cada ubicación\n",
    "ubicacion_metrobus = ubicacion_metrobus.assign(nomgeo = nomgeo_list)\n",
    "ubicacion_metrobus = ubicacion_metrobus.assign(alcaldia_id = alcaldia_id_list)\n",
    "ubicacion_metrobus = ubicacion_metrobus.assign(cve_num = alcaldia_cve_mun)"
   ]
  },
  {
   "cell_type": "code",
   "execution_count": 46,
   "metadata": {},
   "outputs": [
    {
     "name": "stdout",
     "output_type": "stream",
     "text": [
      "La siguiente es la lista de las unidades activas [1, 3, 6, 8, 20, 21, 22, 23, 25, 28, 36, 45, 47, 49, 50, 51, 55, 57, 66, 67, 72, 74, 83, 84, 85, 87, 88, 92, 94, 98, 99, 102, 112, 113, 114, 116, 118, 119, 120, 121, 130, 144, 151, 153, 156, 157, 160, 162, 163, 164, 166, 168, 174, 178, 181, 182, 183, 184, 194, 196] \n",
      "\n",
      "La alcaldia de la ubicacion de metrobús con id=7 es: 7    Benito Jurez\n",
      "Name: nomgeo, dtype: object \n",
      "\n",
      "La siguiente es la lista de las alcaldias con al menos una ubicacion de metrobús ['Coyoacn', 'Venustiano Carranza', 'Iztacalco', 'Iztapalapa', 'Benito Jurez', 'Cuauhtmoc', 'Azcapotzalco', 'Gustavo A. Madero', 'Miguel Hidalgo', 'Milpa Alta'] \n",
      "\n",
      "El número total de ubicaciones de metrobús de la alcaldía con id = 8 es: 18 \n",
      "\n"
     ]
    }
   ],
   "source": [
    "#Muestra la lista de las unidades activas\n",
    "print(f'La siguiente es la lista de las unidades activas \\n {unidades_dispon()} \\n')\n",
    "\n",
    "#Muestra la alcaldia correspondiente al \"id\" de ubicacion_metrobus\n",
    "id_ubicacion = int(input(\"Ingrese el id de la ubicacion: \"))\n",
    "print(f'La ubicación de metrobús con id={id_ubicacion} pertenece a la alcaldía {ubic_por_ID(id_ubicacion)} \\n')\n",
    "\n",
    "#Muestra una lista de los nombres en los que se encuentra al menos una ubicación del metrobus\n",
    "print(f'La siguiente es una lista de las alcaldias con al menos una ubicación de metrobús \\n {alcaldias_dispon()} \\n')\n",
    "\n",
    "#Muestra un conteo de las unididades por alcaldia de acuerdo al \"id\" de la alcaldia\n",
    "id_alcaldia = int(input('Ingrese el id de la alcaldia: '))\n",
    "print(f'La alcaldía con id = {id_alcaldia} tiene el siguiente número de uicaciones de metrobús {unidades_por_alcaldia(id_alcaldia)} \\n')"
   ]
  }
 ],
 "metadata": {
  "interpreter": {
   "hash": "6daafde458c91985921ca8873941c7fc8596b3d11acd80ac3b5757909a4c7017"
  },
  "kernelspec": {
   "display_name": "Python 3.9.12 ('base')",
   "language": "python",
   "name": "python3"
  },
  "language_info": {
   "codemirror_mode": {
    "name": "ipython",
    "version": 3
   },
   "file_extension": ".py",
   "mimetype": "text/x-python",
   "name": "python",
   "nbconvert_exporter": "python",
   "pygments_lexer": "ipython3",
   "version": "3.9.12"
  },
  "orig_nbformat": 4
 },
 "nbformat": 4,
 "nbformat_minor": 2
}
